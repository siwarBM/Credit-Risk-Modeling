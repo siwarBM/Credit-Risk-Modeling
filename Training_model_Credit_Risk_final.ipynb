{
  "nbformat": 4,
  "nbformat_minor": 0,
  "metadata": {
    "colab": {
      "name": "Training model Credit Risk final.ipynb",
      "private_outputs": true,
      "provenance": []
    },
    "kernelspec": {
      "name": "python3",
      "display_name": "Python 3"
    }
  },
  "cells": [
    {
      "cell_type": "code",
      "metadata": {
        "id": "slscGw5cO1YL"
      },
      "source": [
        "import numpy as np #Import Librarys\r\n",
        "import pandas as pd\r\n",
        "import seaborn as sns\r\n",
        "import matplotlib.pyplot as plt\r\n",
        "import pandas_profiling\r\n",
        "from pandas_profiling import ProfileReport\r\n",
        "import matplotlib.pyplot as plt\r\n",
        "import warnings\r\n",
        "import plotly.express as px\r\n",
        "from sklearn import metrics\r\n",
        "from sklearn.preprocessing import Normalizer\r\n",
        "import xgboost as xgb\r\n",
        "from sklearn.model_selection import cross_val_score\r\n",
        "import lightgbm as lgb\r\n",
        "from sklearn.metrics import classification_report\r\n",
        "from sklearn.ensemble import RandomForestClassifier\r\n",
        "from sklearn.model_selection import KFold\r\n",
        "from sklearn.metrics import roc_auc_score\r\n",
        "warnings.filterwarnings('ignore')\r\n",
        "from sklearn.metrics import accuracy_score\r\n",
        "from sklearn.model_selection import GridSearchCV\r\n",
        "from sklearn.model_selection import train_test_split\r\n",
        "from imblearn.over_sampling import SMOTE\r\n",
        "from sklearn.linear_model import LogisticRegression\r\n",
        "from collections import Counter\r\n",
        "import pickle #for save Model\r\n",
        "from sklearn.ensemble import RandomForestClassifier\r\n",
        "#2 sub-sets: personal information and transactional records"
      ],
      "execution_count": null,
      "outputs": []
    },
    {
      "cell_type": "code",
      "metadata": {
        "id": "ORQr3sAOO_u3"
      },
      "source": [
        "df_app = pd.read_csv(\"/application_record.csv\") #Load CSV"
      ],
      "execution_count": null,
      "outputs": []
    },
    {
      "cell_type": "code",
      "metadata": {
        "id": "YRH5qls3lDWT"
      },
      "source": [
        "df_app.info()"
      ],
      "execution_count": null,
      "outputs": []
    },
    {
      "cell_type": "code",
      "metadata": {
        "id": "kLCiHcNAUVbE"
      },
      "source": [
        "df_app.head()"
      ],
      "execution_count": null,
      "outputs": []
    },
    {
      "cell_type": "code",
      "metadata": {
        "id": "k3m0_w5Uk3aj"
      },
      "source": [
        "df_app.describe()"
      ],
      "execution_count": null,
      "outputs": []
    },
    {
      "cell_type": "code",
      "metadata": {
        "id": "Szl0VMd3axB9"
      },
      "source": [
        "df_app['FLAG_OWN_REALTY'].unique() "
      ],
      "execution_count": null,
      "outputs": []
    },
    {
      "cell_type": "code",
      "metadata": {
        "id": "TsiTPa9mbfUW"
      },
      "source": [
        "df_app['NAME_INCOME_TYPE'].unique() "
      ],
      "execution_count": null,
      "outputs": []
    },
    {
      "cell_type": "code",
      "metadata": {
        "id": "-o-eb2A_bl-l"
      },
      "source": [
        "df_app['OCCUPATION_TYPE'].unique() "
      ],
      "execution_count": null,
      "outputs": []
    },
    {
      "cell_type": "code",
      "metadata": {
        "id": "THWjQQRqUgsE"
      },
      "source": [
        "df_rec = pd.read_csv(\"/credit_record.csv\")\r\n"
      ],
      "execution_count": null,
      "outputs": []
    },
    {
      "cell_type": "code",
      "metadata": {
        "id": "QdqTPbm9Usuk"
      },
      "source": [
        "df_rec.head()"
      ],
      "execution_count": null,
      "outputs": []
    },
    {
      "cell_type": "code",
      "metadata": {
        "id": "15dmVUsolVxk"
      },
      "source": [
        "df_rec.info()"
      ],
      "execution_count": null,
      "outputs": []
    },
    {
      "cell_type": "code",
      "metadata": {
        "id": "K6clrn_VUxKb"
      },
      "source": [
        "df_rec['STATUS'].unique() "
      ],
      "execution_count": null,
      "outputs": []
    },
    {
      "cell_type": "code",
      "metadata": {
        "id": "Fw_RXXdsU9wS"
      },
      "source": [
        "#X signifie aucun pret de mois\r\n",
        "#C signifie qu'il est rembosé \r\n",
        "df_rec.STATUS = df_rec.STATUS.replace ({'X': - 2, 'C': -1}) "
      ],
      "execution_count": null,
      "outputs": []
    },
    {
      "cell_type": "code",
      "metadata": {
        "id": "X0gP9UlYVYD1"
      },
      "source": [
        "df_rec.isnull().values.any()"
      ],
      "execution_count": null,
      "outputs": []
    },
    {
      "cell_type": "code",
      "metadata": {
        "id": "dkVrBzJMVg83"
      },
      "source": [
        "df_rec.isnull().sum().sum()"
      ],
      "execution_count": null,
      "outputs": []
    },
    {
      "cell_type": "code",
      "metadata": {
        "id": "IZOUP6TaVki5"
      },
      "source": [
        "df_rec=df_rec.dropna()"
      ],
      "execution_count": null,
      "outputs": []
    },
    {
      "cell_type": "code",
      "metadata": {
        "id": "NrD8Utq2wHjT"
      },
      "source": [
        "df_rec.info()"
      ],
      "execution_count": null,
      "outputs": []
    },
    {
      "cell_type": "code",
      "metadata": {
        "id": "grG0L6ZeVCPg"
      },
      "source": [
        "df_rec.STATUS = df_rec.STATUS.astype ('int')\r\n",
        "df_rec.STATUS = df_rec.STATUS.apply ( lambda x: x + 1)"
      ],
      "execution_count": null,
      "outputs": []
    },
    {
      "cell_type": "code",
      "metadata": {
        "id": "5pcLXqXWVGlM"
      },
      "source": [
        "duplicateRowsDF = df_rec[df_rec.duplicated()]\r\n",
        "print(\"Duplicate Rows except first occurrence based on all columns are :\")\r\n",
        "print(duplicateRowsDF)"
      ],
      "execution_count": null,
      "outputs": []
    },
    {
      "cell_type": "code",
      "metadata": {
        "id": "dOiCUrA7WO5q"
      },
      "source": [
        "credit_month = df_rec.groupby ('ID'). MONTHS_BALANCE.max ().reset_index()"
      ],
      "execution_count": null,
      "outputs": []
    },
    {
      "cell_type": "code",
      "metadata": {
        "id": "USPAdjnJWVJl"
      },
      "source": [
        "record = pd.merge (credit_month, df_rec, how = \"inner\", on = [\"ID\", \"MONTHS_BALANCE\"])"
      ],
      "execution_count": null,
      "outputs": []
    },
    {
      "cell_type": "code",
      "metadata": {
        "id": "2vfrNC61WcUw"
      },
      "source": [
        "len(set(record['ID']))"
      ],
      "execution_count": null,
      "outputs": []
    },
    {
      "cell_type": "code",
      "metadata": {
        "id": "ULx1vGvBWehs"
      },
      "source": [
        "dataRisk = pd.merge(df_app, record, how ='inner', on = ['ID'])"
      ],
      "execution_count": null,
      "outputs": []
    },
    {
      "cell_type": "code",
      "metadata": {
        "id": "i4eRC9A3Wkem"
      },
      "source": [
        "len(set(dataRisk['ID']))"
      ],
      "execution_count": null,
      "outputs": []
    },
    {
      "cell_type": "code",
      "metadata": {
        "id": "ynJjC6-owZS9"
      },
      "source": [
        "dataRisk.info()"
      ],
      "execution_count": null,
      "outputs": []
    },
    {
      "cell_type": "code",
      "metadata": {
        "id": "RWeIsA2jWpNd"
      },
      "source": [
        "dataRisk['AGE']=dataRisk['DAYS_BIRTH'].apply(lambda x : round(x/-365.0))"
      ],
      "execution_count": null,
      "outputs": []
    },
    {
      "cell_type": "code",
      "metadata": {
        "id": "P9Ez7VGFWuGG"
      },
      "source": [
        "dataRisk.drop('DAYS_BIRTH', axis='columns', inplace=True)"
      ],
      "execution_count": null,
      "outputs": []
    },
    {
      "cell_type": "code",
      "metadata": {
        "id": "IGwQaiDFWw9y"
      },
      "source": [
        "dataRisk['DAYS_EMPLOYED'] = dataRisk.DAYS_EMPLOYED.apply(lambda x: round (x / -365,0) if x<0 else 0)"
      ],
      "execution_count": null,
      "outputs": []
    },
    {
      "cell_type": "code",
      "metadata": {
        "id": "ecWp0vkiW410"
      },
      "source": [
        "dataRisk.isnull (). sum ()"
      ],
      "execution_count": null,
      "outputs": []
    },
    {
      "cell_type": "code",
      "metadata": {
        "id": "5TbHtq7cW8uS"
      },
      "source": [
        "dataRisk.OCCUPATION_TYPE = dataRisk.OCCUPATION_TYPE.fillna(\"Others\")"
      ],
      "execution_count": null,
      "outputs": []
    },
    {
      "cell_type": "code",
      "metadata": {
        "id": "2n8tSkuMXDUX"
      },
      "source": [
        "dataRisk.describe()"
      ],
      "execution_count": null,
      "outputs": []
    },
    {
      "cell_type": "code",
      "metadata": {
        "id": "Xveap3_sXMpI"
      },
      "source": [
        "indices = dataRisk[dataRisk['DAYS_EMPLOYED']>=20].index\r\n",
        "dataRisk.drop(indices, inplace=True)"
      ],
      "execution_count": null,
      "outputs": []
    },
    {
      "cell_type": "code",
      "metadata": {
        "id": "voaKm4PLXfp7"
      },
      "source": [
        "boxplot = dataRisk.boxplot(column=['CNT_FAM_MEMBERS'])"
      ],
      "execution_count": null,
      "outputs": []
    },
    {
      "cell_type": "code",
      "metadata": {
        "id": "0f6VPgRMXrGn"
      },
      "source": [
        "indices = dataRisk[dataRisk['CNT_FAM_MEMBERS']>=5].index\r\n",
        "dataRisk.drop(indices, inplace=True)"
      ],
      "execution_count": null,
      "outputs": []
    },
    {
      "cell_type": "code",
      "metadata": {
        "id": "YmjLYBniX4nw"
      },
      "source": [
        "boxplot = dataRisk.boxplot(column=['CNT_FAM_MEMBERS'])"
      ],
      "execution_count": null,
      "outputs": []
    },
    {
      "cell_type": "code",
      "metadata": {
        "id": "cMrxW3F7X6FR"
      },
      "source": [
        "boxplot = dataRisk.boxplot(column=['AMT_INCOME_TOTAL'])"
      ],
      "execution_count": null,
      "outputs": []
    },
    {
      "cell_type": "code",
      "metadata": {
        "id": "XW-VhKEDYt-N"
      },
      "source": [
        "indices = dataRisk[dataRisk['AMT_INCOME_TOTAL']>=390000].index\r\n",
        "dataRisk.drop(indices, inplace=True)"
      ],
      "execution_count": null,
      "outputs": []
    },
    {
      "cell_type": "code",
      "metadata": {
        "id": "a3jVnS79Y_Ci"
      },
      "source": [
        "boxplot = dataRisk.boxplot(column=['CNT_CHILDREN'])"
      ],
      "execution_count": null,
      "outputs": []
    },
    {
      "cell_type": "code",
      "metadata": {
        "id": "8g8CINylZOC-"
      },
      "source": [
        "indices = dataRisk[dataRisk['CNT_CHILDREN']>=3].index\r\n",
        "dataRisk.drop(indices, inplace=True)"
      ],
      "execution_count": null,
      "outputs": []
    },
    {
      "cell_type": "code",
      "metadata": {
        "id": "WjITadRjZPza"
      },
      "source": [
        "boxplot = dataRisk.boxplot(column=['CNT_CHILDREN'])"
      ],
      "execution_count": null,
      "outputs": []
    },
    {
      "cell_type": "code",
      "metadata": {
        "id": "cAKWqRteZRxs"
      },
      "source": [
        "cols = dataRisk.columns.tolist()"
      ],
      "execution_count": null,
      "outputs": []
    },
    {
      "cell_type": "code",
      "metadata": {
        "id": "5Uo7K37BZdP8"
      },
      "source": [
        "cols = cols[:2]+cols[-1:]+cols[2:-1]"
      ],
      "execution_count": null,
      "outputs": []
    },
    {
      "cell_type": "code",
      "metadata": {
        "id": "9KtYNY8FZfJe"
      },
      "source": [
        "cols"
      ],
      "execution_count": null,
      "outputs": []
    },
    {
      "cell_type": "code",
      "metadata": {
        "id": "LCfKWVtTZiVb"
      },
      "source": [
        "dataRisk=dataRisk[cols]"
      ],
      "execution_count": null,
      "outputs": []
    },
    {
      "cell_type": "code",
      "metadata": {
        "id": "jPe5X4k2wuHE"
      },
      "source": [
        "dataRisk.info()"
      ],
      "execution_count": null,
      "outputs": []
    },
    {
      "cell_type": "code",
      "metadata": {
        "id": "T2XLB5meZrQS"
      },
      "source": [
        "\r\n",
        "dataRisk.loc[dataRisk.STATUS < 1,'Risk']=0\r\n",
        "dataRisk.loc[dataRisk.STATUS >= 1,'Risk']=1\r\n"
      ],
      "execution_count": null,
      "outputs": []
    },
    {
      "cell_type": "code",
      "metadata": {
        "id": "pvNUNHxWZurM"
      },
      "source": [
        "dataRisk.drop(['STATUS'], axis='columns', inplace=True)"
      ],
      "execution_count": null,
      "outputs": []
    },
    {
      "cell_type": "code",
      "metadata": {
        "id": "bkFgfwHEadKk"
      },
      "source": [
        "dataRisk.info()"
      ],
      "execution_count": null,
      "outputs": []
    },
    {
      "cell_type": "code",
      "metadata": {
        "id": "8pJr7W4sa6ym"
      },
      "source": [
        "dataRisk.drop(['ID','FLAG_OWN_REALTY'], axis='columns', inplace=True)"
      ],
      "execution_count": null,
      "outputs": []
    },
    {
      "cell_type": "code",
      "metadata": {
        "id": "60rCHQPoa62A"
      },
      "source": [
        "dataRisk.info()"
      ],
      "execution_count": null,
      "outputs": []
    },
    {
      "cell_type": "code",
      "metadata": {
        "id": "w4m3OtRQafw9"
      },
      "source": [
        "#Rename columns\r\n",
        "dataRisk = dataRisk.rename(columns={'CODE_GENDER':'Gender',\r\n",
        "                   'FLAG_OWN_CAR':'car',\r\n",
        "                   'AMT_INCOME_TOTAL':'annual_income',\r\n",
        "                   #'NAME_INCOME_TYPE':'income_type',\r\n",
        "                   'NAME_EDUCATION_TYPE':'education',\r\n",
        "                   'NAME_FAMILY_STATUS':'family_status',\r\n",
        "                   'NAME_HOUSING_TYPE':'house',\r\n",
        "                   'AGE':'age',\r\n",
        "                   'DAYS_EMPLOYED':'employment',\r\n",
        "                   'CNT_FAM_MEMBERS':'fam_members',\r\n",
        "                   'OCCUPATION_TYPE': 'occupation'\r\n",
        "                   })\r\n",
        "dataRisk.head()"
      ],
      "execution_count": null,
      "outputs": []
    },
    {
      "cell_type": "code",
      "metadata": {
        "id": "Xn_AD8vKdACk"
      },
      "source": [
        "dataRisk.info()"
      ],
      "execution_count": null,
      "outputs": []
    },
    {
      "cell_type": "code",
      "metadata": {
        "id": "AWmSLucgdRae"
      },
      "source": [
        "dataRisk.drop(['CNT_CHILDREN','FLAG_MOBIL','FLAG_WORK_PHONE','FLAG_PHONE','MONTHS_BALANCE','NAME_INCOME_TYPE','education'], axis='columns', inplace=True)"
      ],
      "execution_count": null,
      "outputs": []
    },
    {
      "cell_type": "code",
      "metadata": {
        "id": "9gQnPr9tdnBI"
      },
      "source": [
        "dataRisk.drop(['FLAG_EMAIL'], axis='columns', inplace=True) #'ID','FLAG_OWN_REALTY',"
      ],
      "execution_count": null,
      "outputs": []
    },
    {
      "cell_type": "code",
      "metadata": {
        "id": "XUCrh24Bd8h4"
      },
      "source": [
        "dataRisk.head(4)"
      ],
      "execution_count": null,
      "outputs": []
    },
    {
      "cell_type": "code",
      "metadata": {
        "id": "DDwc494yd-iG"
      },
      "source": [
        "sns.set(font_scale=1,style=\"whitegrid\")\r\n",
        "fig,ax=plt.subplots(ncols=2,nrows=2,figsize=(16,12))\r\n",
        "cat_list=[\"age\",\"annual_income\"]\r\n",
        "count=0\r\n",
        "for i in range(2):\r\n",
        "    sns.distplot(dataRisk[cat_list[count]],ax=ax[i][0],kde=False,color=\"#F43EEC\")\r\n",
        "    sns.kdeplot(dataRisk[cat_list[count]],ax=ax[i][1],shade=True,color=\"#359F4B\")\r\n",
        "    count+=1"
      ],
      "execution_count": null,
      "outputs": []
    },
    {
      "cell_type": "code",
      "metadata": {
        "id": "cStdN89mwt9c"
      },
      "source": [
        "dataRisk[dataRisk['age']>65]"
      ],
      "execution_count": null,
      "outputs": []
    },
    {
      "cell_type": "code",
      "metadata": {
        "id": "aUapwWCieJCR"
      },
      "source": [
        "display(dataRisk['Gender'].value_counts())\r\n"
      ],
      "execution_count": null,
      "outputs": []
    },
    {
      "cell_type": "code",
      "metadata": {
        "id": "uS75CLiLfg-l"
      },
      "source": [
        "dataRisk['Gender'].replace('F',0,inplace=True)\r\n",
        "dataRisk['Gender'].replace('M',1,inplace=True)  "
      ],
      "execution_count": null,
      "outputs": []
    },
    {
      "cell_type": "code",
      "metadata": {
        "id": "wSxkpSAVf26F"
      },
      "source": [
        "dataRisk.Gender = dataRisk.Gender.astype ('int')"
      ],
      "execution_count": null,
      "outputs": []
    },
    {
      "cell_type": "code",
      "metadata": {
        "id": "d7z0QLcofXQq"
      },
      "source": [
        "display(dataRisk['family_status'].value_counts())\r\n",
        "\r\n"
      ],
      "execution_count": null,
      "outputs": []
    },
    {
      "cell_type": "code",
      "metadata": {
        "id": "xLp6r9cdgOS4"
      },
      "source": [
        "dataRisk['family_status'] = dataRisk['family_status'].apply(lambda x: 1 if ((x == 'Married') or (x == 'Civil marriage')) else 0)"
      ],
      "execution_count": null,
      "outputs": []
    },
    {
      "cell_type": "code",
      "metadata": {
        "id": "yE_98lzkgVZ0"
      },
      "source": [
        "dataRisk.family_status= dataRisk.family_status.astype ('int')"
      ],
      "execution_count": null,
      "outputs": []
    },
    {
      "cell_type": "code",
      "metadata": {
        "id": "gaQknmTufY_X"
      },
      "source": [
        "display(dataRisk['house'].value_counts())\r\n"
      ],
      "execution_count": null,
      "outputs": []
    },
    {
      "cell_type": "code",
      "metadata": {
        "id": "XSMHx-ZIhOPB"
      },
      "source": [
        "dataRisk['house'] = dataRisk['house'].apply(lambda x: 1 if x == 'House / apartment' else 0)"
      ],
      "execution_count": null,
      "outputs": []
    },
    {
      "cell_type": "code",
      "metadata": {
        "id": "3q0j5J9whSYd"
      },
      "source": [
        "dataRisk.house= dataRisk.house.astype ('int')"
      ],
      "execution_count": null,
      "outputs": []
    },
    {
      "cell_type": "code",
      "metadata": {
        "id": "zgIKJ6bkfaf3"
      },
      "source": [
        "display(dataRisk['occupation'].value_counts())"
      ],
      "execution_count": null,
      "outputs": []
    },
    {
      "cell_type": "code",
      "metadata": {
        "id": "hrsaKFv4fbZQ"
      },
      "source": [
        "display(dataRisk['car'].value_counts())"
      ],
      "execution_count": null,
      "outputs": []
    },
    {
      "cell_type": "code",
      "metadata": {
        "id": "_oDIErNvfr1o"
      },
      "source": [
        "dataRisk['car'].replace('N',0,inplace=True)\r\n",
        "dataRisk['car'].replace('Y',1,inplace=True)"
      ],
      "execution_count": null,
      "outputs": []
    },
    {
      "cell_type": "code",
      "metadata": {
        "id": "3yrmV3l9fxYM"
      },
      "source": [
        "dataRisk.car= dataRisk.car.astype ('int')\r\n"
      ],
      "execution_count": null,
      "outputs": []
    },
    {
      "cell_type": "code",
      "metadata": {
        "id": "o1QYaKdtrb6H"
      },
      "source": [
        "\r\n",
        "#Detect and remove outliers: Annual_income\r\n",
        "\r\n",
        "plt.figure(figsize=(13,7))\r\n",
        "sns.boxplot(dataRisk.annual_income)"
      ],
      "execution_count": null,
      "outputs": []
    },
    {
      "cell_type": "code",
      "metadata": {
        "id": "t1MgbljFrzIT"
      },
      "source": [
        "indices = dataRisk[dataRisk['annual_income']>=390000].index\r\n",
        "dataRisk.drop(indices, inplace=True)"
      ],
      "execution_count": null,
      "outputs": []
    },
    {
      "cell_type": "code",
      "metadata": {
        "id": "_NXKgVV9r5Nv"
      },
      "source": [
        "plt.figure(figsize=(13,7))\r\n",
        "sns.boxplot(dataRisk.annual_income)"
      ],
      "execution_count": null,
      "outputs": []
    },
    {
      "cell_type": "code",
      "metadata": {
        "id": "EgSKfVQ4gDAJ"
      },
      "source": [
        "px.box(data_frame=dataRisk, x='occupation', y='annual_income')"
      ],
      "execution_count": null,
      "outputs": []
    },
    {
      "cell_type": "code",
      "metadata": {
        "id": "WmnBbrQ8heQR"
      },
      "source": [
        "dataRisk.drop(dataRisk.query('occupation==\"Security staff\" and annual_income > 350000').index, inplace=True)\r\n",
        "dataRisk.drop(dataRisk.query('occupation==\"Sales staff\" and annual_income > 370000').index, inplace=True)\r\n",
        "dataRisk.drop(dataRisk.query('occupation==\"Others\" and annual_income > 340000').index, inplace=True)\r\n",
        "dataRisk.drop(dataRisk.query('occupation==\"Drivers\" and annual_income > 350000').index, inplace=True)\r\n",
        "dataRisk.drop(dataRisk.query('occupation==\"Medicine staff\" and annual_income > 350000').index, inplace=True)\r\n",
        "dataRisk.drop(dataRisk.query('occupation==\"Secretaires\" and annual_income > 350000').index, inplace=True)\r\n",
        "dataRisk.drop(dataRisk.query('occupation==\"Waiters/barmen staff\" and 80000 > annual_income > 200000').index, inplace=True)\r\n",
        "dataRisk.drop(dataRisk.query('occupation==\"HR staff\" and annual_income > 250000').index, inplace=True)\r\n",
        "dataRisk.drop(dataRisk.query('occupation==\"Low-skill Laborers\" and annual_income > 250000').index, inplace=True)\r\n",
        "dataRisk.drop(dataRisk.query('occupation==\"Realty agents\" and 150000 > annual_income >350000').index, inplace=True)\r\n",
        "dataRisk.drop(dataRisk.query('occupation==\"IT staff\" and annual_income > 320000').index, inplace=True)\r\n",
        "dataRisk.drop(dataRisk.query('occupation==\"Cooking staff\" and annual_income > 250000').index, inplace=True)\r\n",
        "dataRisk.drop(dataRisk.query('occupation==\"Private service staff\" and annual_income > 370000').index, inplace=True)"
      ],
      "execution_count": null,
      "outputs": []
    },
    {
      "cell_type": "code",
      "metadata": {
        "id": "nIGU9XBWihyS"
      },
      "source": [
        "dataRisk.drop(dataRisk.query('occupation==\"Sales staff\" and annual_income > 350000').index, inplace=True)\r\n",
        "dataRisk.drop(dataRisk.query('occupation==\"Accountants\" and annual_income > 360000').index, inplace=True)\r\n",
        "dataRisk.drop(dataRisk.query('occupation==\"Laborers\" and annual_income > 360000').index, inplace=True)\r\n",
        "dataRisk.drop(dataRisk.query('occupation==\"Core staff\" and annual_income > 370000').index, inplace=True)\r\n",
        "dataRisk.drop(dataRisk.query('occupation==\"Cooking staff\" and annual_income > 230000').index, inplace=True)\r\n",
        "dataRisk.drop(dataRisk.query('occupation==\"Low-skill Laborers\" and annual_income > 200000').index, inplace=True)\r\n",
        "dataRisk.drop(dataRisk.query('occupation==\"Waiters/barmen staff\" and 75000 > annual_income > 200000').index, inplace=True)\r\n",
        "dataRisk.drop(dataRisk.query('occupation==\"Secretaires\" and annual_income > 337500').index, inplace=True)\r\n",
        "dataRisk.drop(dataRisk.query('occupation==\"Realty agents\" and 150000> annual_income').index, inplace=True)"
      ],
      "execution_count": null,
      "outputs": []
    },
    {
      "cell_type": "code",
      "metadata": {
        "id": "dwQR1HxgpFV0"
      },
      "source": [
        "px.box(data_frame=dataRisk, x='occupation', y='annual_income')"
      ],
      "execution_count": null,
      "outputs": []
    },
    {
      "cell_type": "code",
      "metadata": {
        "id": "3S-zVxHZp1vp"
      },
      "source": [
        "dataRisk.drop(dataRisk.query('occupation==\"Waiters/barmen staff\" and 76500 >= annual_income >= 225000').index, inplace=True)\r\n",
        "dataRisk.drop(dataRisk.query('occupation==\"Secretaires\" and annual_income >= 337500').index, inplace=True)\r\n"
      ],
      "execution_count": null,
      "outputs": []
    },
    {
      "cell_type": "code",
      "metadata": {
        "id": "gvqZGn66qPWb"
      },
      "source": [
        "px.box(data_frame=dataRisk, x='occupation', y='annual_income')"
      ],
      "execution_count": null,
      "outputs": []
    },
    {
      "cell_type": "code",
      "metadata": {
        "id": "DZe2GZyFjw1K"
      },
      "source": [
        "OCCUPATION_TYPE = pd.get_dummies(dataRisk['occupation'], drop_first=True)"
      ],
      "execution_count": null,
      "outputs": []
    },
    {
      "cell_type": "code",
      "metadata": {
        "id": "Do8ZQvPyuKRe"
      },
      "source": [
        "%matplotlib inline\r\n",
        "pd.crosstab(dataRisk.annual_income,dataRisk.occupation).plot(kind='bar',figsize=(15,10))\r\n",
        "#plt.title('')        \r\n",
        "plt.xlabel('annual income')\r\n",
        "plt.ylabel('occupation')\r\n",
        "plt.savefig('occupation && annual income')\r\n",
        "\r\n"
      ],
      "execution_count": null,
      "outputs": []
    },
    {
      "cell_type": "code",
      "metadata": {
        "id": "iHbW9PU9waSd"
      },
      "source": [
        "plt.figure(figsize=(10,6))\r\n",
        "sns.barplot(x=dataRisk['occupation'], y=dataRisk['annual_income'], palette=\"Reds_r\")\r\n",
        "plt.xlabel('\\nOccupation', fontsize=15, color='#c0392b')\r\n",
        "plt.ylabel(\"Annual Income\\n\", fontsize=15, color='#c0392b')\r\n",
        "plt.title(\"Annual Income && Occupation \\n\", fontsize=18, color='#e74c3c')\r\n",
        "plt.xticks(rotation= 45)\r\n",
        "plt.tight_layout()"
      ],
      "execution_count": null,
      "outputs": []
    },
    {
      "cell_type": "code",
      "metadata": {
        "id": "bG6AJcNC35YH"
      },
      "source": [
        "df=dataRisk[['occupation', 'annual_income']]\r\n",
        "df2=df.groupby(['occupation']).mean()\r\n",
        "df2=df2.sort_values('annual_income',ascending=False)\r\n",
        "df2\r\n"
      ],
      "execution_count": null,
      "outputs": []
    },
    {
      "cell_type": "code",
      "metadata": {
        "id": "Pra3q_NRjO1A"
      },
      "source": [
        "#,'Accountants'\r\n",
        "OCCUPATION_TYPE['CLASS 3 WORKERS'] = OCCUPATION_TYPE[['Low-skill Laborers','Cooking staff','Cleaning staff']].sum(axis=1)\r\n",
        "OCCUPATION_TYPE['CLASS 2 WORKERS'] = OCCUPATION_TYPE[['Medicine staff','HR staff','Waiters/barmen staff','Security staff','Sales staff','Secretaries','IT staff']].sum(axis=1)\r\n",
        "OCCUPATION_TYPE['CLASS 1 WORKERS'] = OCCUPATION_TYPE[['Laborers','Core staff','Private service staff','High skill tech staff','Drivers','Managers','Realty agents']].sum(axis=1)\r\n"
      ],
      "execution_count": null,
      "outputs": []
    },
    {
      "cell_type": "code",
      "metadata": {
        "id": "E2f5DOOoJZlg"
      },
      "source": [
        "OCCUPATION_TYPE\r\n",
        "OCCUPATION_TYPE.drop(['Cleaning staff','Cooking staff','Core staff','Drivers','HR staff','High skill tech staff','IT staff','Laborers','Low-skill Laborers','Managers','Medicine staff','Private service staff','Realty agents','Sales staff','Secretaries','Security staff','Waiters/barmen staff'], axis=1,inplace=True)"
      ],
      "execution_count": null,
      "outputs": []
    },
    {
      "cell_type": "code",
      "metadata": {
        "id": "2WB7gXrTjgZa"
      },
      "source": [
        "dataRisk.drop(['occupation'], axis='columns', inplace=True)"
      ],
      "execution_count": null,
      "outputs": []
    },
    {
      "cell_type": "code",
      "metadata": {
        "id": "xfzrFYw0kPCy"
      },
      "source": [
        "dataRisk = pd.concat([dataRisk, OCCUPATION_TYPE], axis=1)"
      ],
      "execution_count": null,
      "outputs": []
    },
    {
      "cell_type": "code",
      "metadata": {
        "id": "AbS7QklIkT9c"
      },
      "source": [
        "dataRisk.head(4)"
      ],
      "execution_count": null,
      "outputs": []
    },
    {
      "cell_type": "code",
      "metadata": {
        "id": "zpkAzefgkZ9m"
      },
      "source": [
        "dataRisk.dtypes"
      ],
      "execution_count": null,
      "outputs": []
    },
    {
      "cell_type": "code",
      "metadata": {
        "id": "7QpOdEMYxMbR"
      },
      "source": [
        "dataRisk.info()"
      ],
      "execution_count": null,
      "outputs": []
    },
    {
      "cell_type": "code",
      "metadata": {
        "id": "zGKMJwcHwMQL"
      },
      "source": [
        "fig, ax = plt.subplots(figsize=(10,5))\r\n",
        "sns.heatmap(dataRisk.corr(), annot=True, cmap='Greens',ax=ax)\r\n",
        "plt.title(\"Matrice de corrélation entre les différentes caractéristiques des clients\\n\", fontsize=18, color='#009432')\r\n",
        "import matplotlib.pyplot as plt\r\n"
      ],
      "execution_count": null,
      "outputs": []
    },
    {
      "cell_type": "code",
      "metadata": {
        "id": "8nsXmy4p5RhN"
      },
      "source": [
        "# Continuous variables: annual_income, age, year_of_employment \r\n",
        "\r\n",
        "fig, ax = plt.subplots(2,2,figsize=(15,10))\r\n",
        "\r\n",
        "ax[0][0].hist(dataRisk.age)\r\n",
        "ax[0][1].hist(dataRisk.annual_income)\r\n",
        "ax[1][0].hist(dataRisk.employment)\r\n",
        "ax[1][1].hist(dataRisk.fam_members) # fam_members"
      ],
      "execution_count": null,
      "outputs": []
    },
    {
      "cell_type": "code",
      "metadata": {
        "id": "2N053aw0lX21"
      },
      "source": [
        "X = dataRisk.drop('Risk', axis=1)\r\n",
        "Y = dataRisk[['Risk']]"
      ],
      "execution_count": null,
      "outputs": []
    },
    {
      "cell_type": "code",
      "metadata": {
        "id": "x9GKnDRnmL5z"
      },
      "source": [
        "from sklearn.model_selection import train_test_split\r\n",
        "X_train, X_test, Y_train, Y_test = train_test_split(X, Y, test_size=0.33, random_state=42)"
      ],
      "execution_count": null,
      "outputs": []
    },
    {
      "cell_type": "code",
      "metadata": {
        "id": "CxigUOqMmOsc"
      },
      "source": [
        "plt.hist(X_train['annual_income'], label='X_train');\r\n",
        "plt.hist(X_test['annual_income'], label='X_test');\r\n",
        "plt.legend();\r\n",
        "plt.title('Distribution of Annual_income');"
      ],
      "execution_count": null,
      "outputs": []
    },
    {
      "cell_type": "code",
      "metadata": {
        "id": "P-Ph448-mokW"
      },
      "source": [
        "risp=dataRisk[dataRisk['Risk']==1.0]"
      ],
      "execution_count": null,
      "outputs": []
    },
    {
      "cell_type": "code",
      "metadata": {
        "id": "MKjNd3Rdm_W7"
      },
      "source": [
        "risn=dataRisk[dataRisk['Risk']==0.0]"
      ],
      "execution_count": null,
      "outputs": []
    },
    {
      "cell_type": "code",
      "metadata": {
        "id": "ZAB4X0lKnDFV"
      },
      "source": [
        "risp.info()"
      ],
      "execution_count": null,
      "outputs": []
    },
    {
      "cell_type": "code",
      "metadata": {
        "id": "8by41nzWnEw4"
      },
      "source": [
        "risn.info()"
      ],
      "execution_count": null,
      "outputs": []
    },
    {
      "cell_type": "code",
      "metadata": {
        "id": "X9UNe0L4nJb0"
      },
      "source": [
        "# nombre de classes\r\n",
        "class_count_0, class_count_1 = dataRisk['Risk']. value_counts ()\r\n",
        "\r\n",
        "# Classe séparée\r\n",
        "class_0 = dataRisk[dataRisk['Risk'] == 0]\r\n",
        "class_1 = dataRisk[dataRisk['Risk'] == 1] # imprime la forme de la classe\r\n",
        "print ('classe 0:', class_0.shape)\r\n",
        "print ('classe 1:', class_1.shape)"
      ],
      "execution_count": null,
      "outputs": []
    },
    {
      "cell_type": "code",
      "metadata": {
        "id": "NRi3hey08j7a"
      },
      "source": [
        "#Dealing with imbalanced data (Oversampling (SMOTE))\r\n",
        "\r\n",
        "\r\n",
        "class_00 = dataRisk[dataRisk.Risk == 0].Risk.count() / dataRisk.Risk.count()\r\n",
        "class_11 = dataRisk[dataRisk.Risk == 1].Risk.count() / dataRisk.Risk.count()\r\n",
        "\r\n",
        "print(class_00)\r\n",
        "print(class_11)"
      ],
      "execution_count": null,
      "outputs": []
    },
    {
      "cell_type": "code",
      "metadata": {
        "id": "8MjK9o7Cy_Bi"
      },
      "source": [
        "duplicateRowsDF = dataRisk[dataRisk.duplicated()]\r\n",
        "print(\"Duplicate Rows except first occurrence based on all columns are :\")\r\n",
        "print(duplicateRowsDF)\r\n"
      ],
      "execution_count": null,
      "outputs": []
    },
    {
      "cell_type": "code",
      "metadata": {
        "id": "XoGyBllOziPZ"
      },
      "source": [
        "dataRisk=dataRisk.drop_duplicates() #Remove duplicate rows"
      ],
      "execution_count": null,
      "outputs": []
    },
    {
      "cell_type": "code",
      "metadata": {
        "id": "c5myPEVIzpIr"
      },
      "source": [
        "dataRisk.info()"
      ],
      "execution_count": null,
      "outputs": []
    },
    {
      "cell_type": "code",
      "metadata": {
        "id": "x5pqqMfMIcLh"
      },
      "source": [
        "%matplotlib inline\r\n",
        "pd.crosstab(dataRisk.age,dataRisk.annual_income).plot(kind='bar',figsize=(15,10))\r\n",
        "#plt.title('')        \r\n",
        "plt.xlabel('age')\r\n",
        "plt.ylabel('annual income')\r\n",
        "plt.savefig('age && annual income')\r\n",
        "\r\n"
      ],
      "execution_count": null,
      "outputs": []
    },
    {
      "cell_type": "code",
      "metadata": {
        "id": "xCLdDK3L9Stw"
      },
      "source": [
        "#Oversampling (SMOTE: Synthetic Minority Oversampling Technique)\r\n",
        "\r\n",
        "from imblearn.over_sampling import SMOTE\r\n",
        "from collections import Counter\r\n",
        "\r\n",
        "oversample = SMOTE()\r\n",
        "\r\n",
        "x_train_over, y_train_over = oversample.fit_resample(X_train, Y_train)\r\n",
        "print(Counter(y_train_over))"
      ],
      "execution_count": null,
      "outputs": []
    },
    {
      "cell_type": "code",
      "metadata": {
        "id": "VA9vGZea1bgq"
      },
      "source": [
        "X_train.columns"
      ],
      "execution_count": null,
      "outputs": []
    },
    {
      "cell_type": "code",
      "metadata": {
        "id": "T6KIrfpulPUo"
      },
      "source": [
        "#Apply to x_test_set\r\n",
        "X_test_over, Y_test_over = oversample.fit_resample(X_test, Y_test)\r\n",
        "print(Counter(Y_test_over))\r\n"
      ],
      "execution_count": null,
      "outputs": []
    },
    {
      "cell_type": "code",
      "metadata": {
        "id": "G5IAvO6Fq3d2"
      },
      "source": [
        "#lightGBM\r\n",
        "from sklearn.metrics import accuracy_score\r\n",
        "import pickle\r\n",
        "import lightgbm as lgb\r\n",
        "lgb_params = {\r\n",
        "                'objective':'binary',\r\n",
        "                'boosting_type':'gbdt',\r\n",
        "                 'metric':'auc',\r\n",
        "                'n_jobs':-1,\r\n",
        "                'learning_rate':0.1,\r\n",
        "                'max_depth':12,\r\n",
        "                'n_estimators':1000,\r\n",
        "                'seed': 0,\r\n",
        "                'early_stopping_rounds':100, \r\n",
        "            }\r\n",
        "clf = lgb.LGBMClassifier(**lgb_params)\r\n",
        "clf.fit(\r\n",
        "        x_train_over, y_train_over,\r\n",
        "        eval_set=[(x_train_over, y_train_over),(X_test_over, Y_test_over)],\r\n",
        "        verbose=50,\r\n",
        "        early_stopping_rounds=100)\r\n",
        "ypred1 = clf.predict_proba(X_test,num_iteration=clf.best_iteration_)[:,1]\r\n",
        "# predict the results\r\n",
        "\r\n",
        "\r\n",
        "val_score = roc_auc_score(Y_test, ypred1)\r\n",
        "print(f\"val_score = {val_score}\")\r\n",
        "\r\n",
        "\r\n",
        "Pkl_Filename = \"Risk_modelGBM.pkl\"  \r\n",
        "\r\n",
        "with open(Pkl_Filename, 'wb') as file:  \r\n",
        "    pickle.dump(clf, file)\r\n",
        "loaded_model = pickle.load(open(Pkl_Filename, 'rb'))\r\n",
        "result = loaded_model.score(X_test, Y_test)\r\n",
        "print(\"XGBMLIGHT model created\")\r\n",
        "  "
      ],
      "execution_count": null,
      "outputs": []
    },
    {
      "cell_type": "code",
      "metadata": {
        "id": "1qWubO1nAzs7"
      },
      "source": [
        "y_pred_test=clf.predict(X_test)\r\n",
        "acc1=clf.score(x_train_over, y_train_over)\r\n",
        "acc2=clf.score(X_test, Y_test)\r\n",
        "print('training accuarcy  is:{0:0.4f}'.format(acc1))\r\n",
        "print('test accuarcy is:{0:0.4f}'.format(acc2))\r\n",
        "val_score = roc_auc_score(Y_test, ypred1)\r\n",
        "print(\"auc score lightGBM model is:{0:0.4f}\".format(val_score))\r\n",
        "print('LightGBM Model accuracy score: {0:0.4f}'.format(accuracy_score(Y_test,y_pred_test)))"
      ],
      "execution_count": null,
      "outputs": []
    },
    {
      "cell_type": "code",
      "metadata": {
        "id": "MOKxg2ilNXdf"
      },
      "source": [
        "print(classification_report(Y_test, y_pred_test))"
      ],
      "execution_count": null,
      "outputs": []
    },
    {
      "cell_type": "markdown",
      "metadata": {
        "id": "_S1_vtR6yRra"
      },
      "source": [
        ""
      ]
    }
  ]
}